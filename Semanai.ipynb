{
  "nbformat": 4,
  "nbformat_minor": 0,
  "metadata": {
    "colab": {
      "provenance": []
    },
    "kernelspec": {
      "name": "python3",
      "display_name": "Python 3"
    },
    "language_info": {
      "name": "python"
    }
  },
  "cells": [
    {
      "cell_type": "code",
      "execution_count": null,
      "metadata": {
        "colab": {
          "base_uri": "https://localhost:8080/"
        },
        "id": "IU_4gKfKFgFW",
        "outputId": "cb3eb6fc-0135-46e8-c4e9-0aaef84000d1"
      },
      "outputs": [
        {
          "output_type": "stream",
          "name": "stdout",
          "text": [
            "Drive already mounted at /content/drive; to attempt to forcibly remount, call drive.mount(\"/content/drive\", force_remount=True).\n"
          ]
        }
      ],
      "source": [
        "#Importar librerias\n",
        "\n",
        "import csv\n",
        "import psycopg2 as pg\n",
        "import pandas as pd\n",
        "import numpy as np\n",
        "import math\n",
        "import matplotlib.pyplot as plt\n",
        "import seaborn as sb\n",
        "import matplotlib.pyplot as plt\n",
        "import time\n",
        "\n",
        "\n",
        "from scipy import stats\n",
        "from functools import reduce\n",
        "from mpl_toolkits.mplot3d import Axes3D\n",
        "from datetime import datetime\n",
        "from sklearn import metrics\n",
        "from sklearn.preprocessing import StandardScaler\n",
        "from sklearn.cluster import DBSCAN\n",
        "from sklearn.cluster import KMeans\n",
        "from sklearn.cluster import AgglomerativeClustering\n",
        "from sklearn.metrics import silhouette_score\n",
        "import pandas as pd \n",
        "from sklearn.model_selection import train_test_split \n",
        "from sklearn.linear_model import LinearRegression \n",
        "from sklearn import metrics\n",
        "from sklearn.preprocessing import StandardScaler\n",
        "import seaborn as sn\n",
        "\n",
        "from sklearn.linear_model import LinearRegression\n",
        "import sklearn.metrics as metrics\n",
        "from sklearn.metrics import r2_score\n",
        "\n",
        "def regression_results(y_true, y_pred):\n",
        " explained_variance=metrics.explained_variance_score(y_true, y_pred)\n",
        " mean_absolute_error=metrics.mean_absolute_error(y_true, y_pred) \n",
        " mse=metrics.mean_squared_error(y_true, y_pred) \n",
        " median_absolute_error=metrics.median_absolute_error(y_true, y_pred)\n",
        " r2=metrics.r2_score(y_true, y_pred)\n",
        "\n",
        "\n",
        "#READ THE FILE\n",
        "\n",
        "def readFile (fileName):  \n",
        "    df= pd.read_csv(fileName)    \n",
        "    return df\n",
        "\n",
        "\n",
        "def avgEPS (rV):\n",
        "    dffs = [abs(rV[i]-rV[i+1]) for i in range(len(rV)-1)]\n",
        "    if len(dffs) > 0:\n",
        "        return np.mean(dffs)\n",
        "    else :\n",
        "        return rV[0]\n",
        "    \n",
        "def fitLabels (l, t):\n",
        "    unique = reduce(lambda l, x: l if x in l else l+[x], l, [])\n",
        "    if t == 0:\n",
        "        factor = 1\n",
        "    elif t== 1:\n",
        "        factor = 6\n",
        "    for i in range (0, len(l)):\n",
        "        for j in range (0, len(unique)):\n",
        "            if l[i]==unique[j]:\n",
        "                l[i]=j+factor\n",
        "                break\n",
        "    return l\n",
        "        \n",
        "def graficar (stdList, labels):\n",
        "    \n",
        "    colores=['black','green','blue','cyan','yellow']\n",
        "    asignar=[]\n",
        "    for row in labels:\n",
        "        asignar.append(colores[row-1])\n",
        "    \n",
        "    plt.scatter(stdList[:, 0], stdList[:, 1], c=asignar,s=60)\n",
        "    plt.show()\n",
        "\n",
        "def graficar3D (stdList, labels):\n",
        "    colores=['red','green','blue','cyan','yellow']\n",
        "    asignar=[]\n",
        "    for row in labels:\n",
        "        asignar.append(colores[row-1])\n",
        "        \n",
        "    fig = plt.figure()\n",
        "    ax = Axes3D(fig)\n",
        "    ax.scatter(stdList[:, 0], stdList[:, 1], stdList[:, 2], c=asignar,s=60)\n",
        "    plt.show()\n",
        "    \n",
        "\n",
        "#Leer archivo\n",
        "from google.colab import drive\n",
        "drive.mount('/content/drive')\n",
        "\n",
        "#Pasar datos a un arreglo\n",
        "#datosF = np.array(dfFile[['ID','Age','Gender','Edu','Ocu','ResArea','EdoSocio','WEIGHT','BMI ','OBESITY','SMOK','T2DIAB','ET DIAB','HBA1','2HBA1','1BUN','NEPDIAN','DR','HYPO','TXINS']])\n",
        "\n",
        "#print (datosF)\n",
        "\n",
        "import numpy as np\n",
        "from numpy import sqrt\n",
        "from numpy import array\n",
        "from numpy import mean\n",
        "from numpy import std\n",
        "from numpy import zeros\n",
        "from numpy import around\n",
        "from numpy import set_printoptions\n",
        "from numpy import c_\n",
        "import pandas as pd\n",
        "import seaborn as sns\n",
        "import seaborn as sn\n",
        "import matplotlib.pyplot as plt\n",
        "import matplotlib.pyplot as plt\n",
        "from sklearn.decomposition import PCA\n",
        "set_printoptions(precision=6,suppress=True)\n",
        "\n",
        "from sklearn.linear_model import LinearRegression\n",
        "import sklearn.metrics as metrics\n",
        "from sklearn.metrics import r2_score\n",
        "from sklearn.metrics import confusion_matrix\n",
        "import pandas as pd\n",
        "from sklearn.model_selection import train_test_split\n",
        "from sklearn.naive_bayes import GaussianNB\n",
        "from sklearn import metrics\n",
        "from sklearn.preprocessing import StandardScaler\n",
        "import seaborn as sn\n",
        "def regression_results(y_true, y_pred):\n",
        " explained_variance=metrics.explained_variance_score(y_true, y_pred)\n",
        " mean_absolute_error=metrics.mean_absolute_error(y_true, y_pred)\n",
        " mse=metrics.mean_squared_error(y_true, y_pred)\n",
        " #mean_squared_log_error=metrics.mean_squared_log_error(y_true, y_pred)\n",
        " median_absolute_error=metrics.median_absolute_error(y_true, y_pred)\n",
        " r2=metrics.r2_score(y_true, y_pred)\n",
        " print('explained_variance: ', round(explained_variance,4))\n",
        " #print('mean_squared_log_error: ', round(mean_squared_log_error,4))\n",
        " print('r2: ', round(r2,4))\n",
        " print('MAE: ', round(mean_absolute_error,4))\n",
        " print('MSE: ', round(mse,4))\n",
        " print('RMSE: ', round(np.sqrt(mse),4))\n",
        "\n",
        "import pandas as pd \n",
        "from sklearn.preprocessing import StandardScaler\n",
        "import seaborn as sns\n",
        "import numpy as np\n",
        "from sklearn.preprocessing import LabelEncoder\n",
        "from sklearn.preprocessing import MinMaxScaler\n",
        "import matplotlib.pyplot as plt\n",
        "from sklearn.decomposition import PCA\n",
        "from collections import Counter\n",
        "\n",
        "def getCommonValues(df,n):\n",
        "    Equipment_Class = dfSystem[\"EquipmentClass\"].unique()\n",
        "\n",
        "    common_values =  []\n",
        "\n",
        "    Count = Counter(dfSystem[\"EquipmentClass\"])\n",
        "    for i in range(0,len(Equipment_Class)):\n",
        "        Equipclass = Equipment_Class[i]\n",
        "        times= Count[Equipclass]\n",
        "        if times > n:\n",
        "            common_values.append(Equipclass)\n",
        "    return(common_values)\n",
        "\n",
        "\n"
      ]
    },
    {
      "cell_type": "code",
      "source": [
        "df = pd.read_csv('/content/drive/MyDrive/AGUANL.csv')"
      ],
      "metadata": {
        "id": "5T7-6FE6Fop0"
      },
      "execution_count": null,
      "outputs": []
    },
    {
      "cell_type": "code",
      "source": [
        "df = df.drop(['Unnamed: 6'],axis=1)\n",
        "df = df.drop(['Unnamed: 7'],axis=1)\n",
        "df = df.drop(['Unnamed: 8'],axis=1)\n",
        "df = df.drop(['Unnamed: 9'],axis=1)"
      ],
      "metadata": {
        "id": "EUrPrByBYEt1"
      },
      "execution_count": null,
      "outputs": []
    },
    {
      "cell_type": "code",
      "source": [
        "df.head(52)"
      ],
      "metadata": {
        "colab": {
          "base_uri": "https://localhost:8080/",
          "height": 1000
        },
        "id": "YesDoK5VG0MD",
        "outputId": "c7d89d4a-ab54-482d-c241-ed381971c010"
      },
      "execution_count": null,
      "outputs": [
        {
          "output_type": "execute_result",
          "data": {
            "text/plain": [
              "                   Municipio Población total  Porcentaje con Agua Entubada  \\\n",
              "0                   Abasolo           2,974                       0.978480   \n",
              "1                Agualeguas           3,382                       0.989060   \n",
              "2                    Allende         35,289                       0.987872   \n",
              "3                    Anáhuac         18,030                       0.974432   \n",
              "4                    Apodaca        656,464                       0.991835   \n",
              "5                  Aramberri         14,992                       0.928962   \n",
              "6                Bustamante           3,661                       0.956569   \n",
              "7          Cadereyta Jiménez        122,337                       0.972854   \n",
              "8                   Cerralvo          7,340                       0.985559   \n",
              "9                      China          9,930                       0.930312   \n",
              "10         Ciénega de Flores         68,747                       0.997658   \n",
              "11             Doctor Arroyo         36,088                       0.704168   \n",
              "12              Doctor Coss           1,360                       0.960294   \n",
              "13          Doctor González           3,256                       0.970823   \n",
              "14                 El Carmen        104,478                       0.992707   \n",
              "15                   Galeana         40,903                       0.863775   \n",
              "16                    García        397,205                       0.995655   \n",
              "17             General Bravo          5,506                       0.957864   \n",
              "18          General Escobedo        481,213                       0.991507   \n",
              "19             General Terán         14,109                       0.968672   \n",
              "20          General Treviño           1,808                       0.982854   \n",
              "21          General Zaragoza          6,282                       0.790672   \n",
              "22            General Zuazua        102,149                       0.996446   \n",
              "23                 Guadalupe        643,143                       0.994718   \n",
              "24                   Hidalgo         16,086                       0.989370   \n",
              "25                 Higueras           1,386                       0.989177   \n",
              "26               Hualahuises          7,026                       0.990891   \n",
              "27                 Iturbide           3,298                       0.963614   \n",
              "28                    Juárez        471,523                       0.995339   \n",
              "29       Lampazos de Naranjo          5,351                       0.983928   \n",
              "30                   Linares         84,666                       0.983122   \n",
              "31              Los Aldamas           1,407                       0.977967   \n",
              "32             Los Herreras           1,959                       0.977540   \n",
              "33               Los Ramones          5,389                       0.958063   \n",
              "34                     Marín          5,119                       0.992772   \n",
              "35       035 Melchor Ocampo           1,483                       0.984491   \n",
              "36        036 Mier y Noriega          7,652                       0.787899   \n",
              "37                      Mina          6,048                       0.940146   \n",
              "38              Montemorelos         67,428                       0.974224   \n",
              "39                 Monterrey      1,142,994                       0.985813   \n",
              "40                    Parás             906                       0.981236   \n",
              "41                 Pesquería        147,624                       0.995096   \n",
              "42                   Rayones          2,377                       0.965503   \n",
              "43           Sabinas Hidalgo         34,709                       0.986977   \n",
              "44          Salinas Victoria         86,766                       0.994064   \n",
              "45  San Nicolás de los Garza        412,199                       0.998377   \n",
              "46    San Pedro Garza García        132,169                       0.959476   \n",
              "47            Santa Catarina        306,322                       0.987765   \n",
              "48                  Santiago         46,784                       0.964154   \n",
              "49                Vallecillo          1,552                       0.975515   \n",
              "50                Villaldama          3,573                       0.981808   \n",
              "51                       NaN             NaN                           NaN   \n",
              "\n",
              "    Porcentaje de agua entubada dentro de la vivienda  \\\n",
              "0                                            0.941829   \n",
              "1                                            0.945594   \n",
              "2                                            0.972314   \n",
              "3                                            0.925957   \n",
              "4                                            0.989712   \n",
              "5                                            0.470584   \n",
              "6                                            0.926796   \n",
              "7                                            0.954168   \n",
              "8                                            0.968665   \n",
              "9                                            0.880363   \n",
              "10                                           0.992640   \n",
              "11                                           0.394646   \n",
              "12                                           0.941912   \n",
              "13                                           0.909705   \n",
              "14                                           0.987595   \n",
              "15                                           0.384715   \n",
              "16                                           0.983386   \n",
              "17                                           0.923175   \n",
              "18                                           0.979708   \n",
              "19                                           0.854136   \n",
              "20                                           0.952434   \n",
              "21                                           0.365489   \n",
              "22                                           0.989417   \n",
              "23                                           0.989335   \n",
              "24                                           0.965311   \n",
              "25                                           0.918470   \n",
              "26                                           0.933817   \n",
              "27                                           0.593996   \n",
              "28                                           0.988278   \n",
              "29                                           0.934218   \n",
              "30                                           0.909515   \n",
              "31                                           0.959488   \n",
              "32                                           0.943338   \n",
              "33                                           0.878456   \n",
              "34                                           0.952530   \n",
              "35                                           0.971679   \n",
              "36                                           0.279665   \n",
              "37                                           0.811673   \n",
              "38                                           0.920982   \n",
              "39                                           0.976091   \n",
              "40                                           0.927152   \n",
              "41                                           0.984820   \n",
              "42                                           0.689104   \n",
              "43                                           0.968596   \n",
              "44                                           0.968179   \n",
              "45                                           0.995963   \n",
              "46                                           0.954853   \n",
              "47                                           0.980201   \n",
              "48                                           0.929484   \n",
              "49                                           0.847294   \n",
              "50                                           0.937308   \n",
              "51                                                NaN   \n",
              "\n",
              "    Porcentaje de agua entubada fuera de la vivienda  \\\n",
              "0                                           0.036651   \n",
              "1                                           0.043465   \n",
              "2                                           0.015557   \n",
              "3                                           0.048475   \n",
              "4                                           0.002123   \n",
              "5                                           0.458378   \n",
              "6                                           0.029773   \n",
              "7                                           0.018686   \n",
              "8                                           0.016894   \n",
              "9                                           0.049950   \n",
              "10                                          0.005018   \n",
              "11                                          0.309521   \n",
              "12                                          0.018382   \n",
              "13                                          0.061118   \n",
              "14                                          0.005111   \n",
              "15                                          0.479060   \n",
              "16                                          0.012268   \n",
              "17                                          0.034689   \n",
              "18                                          0.011799   \n",
              "19                                          0.114537   \n",
              "20                                          0.030420   \n",
              "21                                          0.425183   \n",
              "22                                          0.007029   \n",
              "23                                          0.005383   \n",
              "24                                          0.024058   \n",
              "25                                          0.070707   \n",
              "26                                          0.057074   \n",
              "27                                          0.369618   \n",
              "28                                          0.007060   \n",
              "29                                          0.049710   \n",
              "30                                          0.073607   \n",
              "31                                          0.018479   \n",
              "32                                          0.034201   \n",
              "33                                          0.079607   \n",
              "34                                          0.040242   \n",
              "35                                          0.012812   \n",
              "36                                          0.508233   \n",
              "37                                          0.128472   \n",
              "38                                          0.053242   \n",
              "39                                          0.009722   \n",
              "40                                          0.054084   \n",
              "41                                          0.010276   \n",
              "42                                          0.276399   \n",
              "43                                          0.018381   \n",
              "44                                          0.025886   \n",
              "45                                          0.002414   \n",
              "46                                          0.004623   \n",
              "47                                          0.007564   \n",
              "48                                          0.034670   \n",
              "49                                          0.128222   \n",
              "50                                          0.044500   \n",
              "51                                               NaN   \n",
              "\n",
              "    Porcentaje sin Agua Entubada (Acarreo)  \n",
              "0                                 0.021520  \n",
              "1                                 0.010940  \n",
              "2                                 0.012128  \n",
              "3                                 0.025568  \n",
              "4                                 0.008165  \n",
              "5                                 0.071038  \n",
              "6                                 0.043431  \n",
              "7                                 0.027146  \n",
              "8                                 0.014441  \n",
              "9                                 0.069688  \n",
              "10                                0.002342  \n",
              "11                                0.295832  \n",
              "12                                0.039706  \n",
              "13                                0.029177  \n",
              "14                                0.007293  \n",
              "15                                0.136225  \n",
              "16                                0.004345  \n",
              "17                                0.042136  \n",
              "18                                0.008493  \n",
              "19                                0.031328  \n",
              "20                                0.017146  \n",
              "21                                0.209328  \n",
              "22                                0.003554  \n",
              "23                                0.005282  \n",
              "24                                0.010630  \n",
              "25                                0.010823  \n",
              "26                                0.009109  \n",
              "27                                0.036386  \n",
              "28                                0.004661  \n",
              "29                                0.016072  \n",
              "30                                0.016878  \n",
              "31                                0.022033  \n",
              "32                                0.022460  \n",
              "33                                0.041937  \n",
              "34                                0.007228  \n",
              "35                                0.015509  \n",
              "36                                0.212101  \n",
              "37                                0.059854  \n",
              "38                                0.025776  \n",
              "39                                0.014187  \n",
              "40                                0.018764  \n",
              "41                                0.004904  \n",
              "42                                0.034497  \n",
              "43                                0.013023  \n",
              "44                                0.005936  \n",
              "45                                0.001623  \n",
              "46                                0.040524  \n",
              "47                                0.012235  \n",
              "48                                0.035846  \n",
              "49                                0.024485  \n",
              "50                                0.018192  \n",
              "51                                     NaN  "
            ],
            "text/html": [
              "\n",
              "  <div id=\"df-723a4141-fd65-46f1-982b-5ebe21a775e1\">\n",
              "    <div class=\"colab-df-container\">\n",
              "      <div>\n",
              "<style scoped>\n",
              "    .dataframe tbody tr th:only-of-type {\n",
              "        vertical-align: middle;\n",
              "    }\n",
              "\n",
              "    .dataframe tbody tr th {\n",
              "        vertical-align: top;\n",
              "    }\n",
              "\n",
              "    .dataframe thead th {\n",
              "        text-align: right;\n",
              "    }\n",
              "</style>\n",
              "<table border=\"1\" class=\"dataframe\">\n",
              "  <thead>\n",
              "    <tr style=\"text-align: right;\">\n",
              "      <th></th>\n",
              "      <th>Municipio</th>\n",
              "      <th>Población total</th>\n",
              "      <th>Porcentaje con Agua Entubada</th>\n",
              "      <th>Porcentaje de agua entubada dentro de la vivienda</th>\n",
              "      <th>Porcentaje de agua entubada fuera de la vivienda</th>\n",
              "      <th>Porcentaje sin Agua Entubada (Acarreo)</th>\n",
              "    </tr>\n",
              "  </thead>\n",
              "  <tbody>\n",
              "    <tr>\n",
              "      <th>0</th>\n",
              "      <td>Abasolo</td>\n",
              "      <td>2,974</td>\n",
              "      <td>0.978480</td>\n",
              "      <td>0.941829</td>\n",
              "      <td>0.036651</td>\n",
              "      <td>0.021520</td>\n",
              "    </tr>\n",
              "    <tr>\n",
              "      <th>1</th>\n",
              "      <td>Agualeguas</td>\n",
              "      <td>3,382</td>\n",
              "      <td>0.989060</td>\n",
              "      <td>0.945594</td>\n",
              "      <td>0.043465</td>\n",
              "      <td>0.010940</td>\n",
              "    </tr>\n",
              "    <tr>\n",
              "      <th>2</th>\n",
              "      <td>Allende</td>\n",
              "      <td>35,289</td>\n",
              "      <td>0.987872</td>\n",
              "      <td>0.972314</td>\n",
              "      <td>0.015557</td>\n",
              "      <td>0.012128</td>\n",
              "    </tr>\n",
              "    <tr>\n",
              "      <th>3</th>\n",
              "      <td>Anáhuac</td>\n",
              "      <td>18,030</td>\n",
              "      <td>0.974432</td>\n",
              "      <td>0.925957</td>\n",
              "      <td>0.048475</td>\n",
              "      <td>0.025568</td>\n",
              "    </tr>\n",
              "    <tr>\n",
              "      <th>4</th>\n",
              "      <td>Apodaca</td>\n",
              "      <td>656,464</td>\n",
              "      <td>0.991835</td>\n",
              "      <td>0.989712</td>\n",
              "      <td>0.002123</td>\n",
              "      <td>0.008165</td>\n",
              "    </tr>\n",
              "    <tr>\n",
              "      <th>5</th>\n",
              "      <td>Aramberri</td>\n",
              "      <td>14,992</td>\n",
              "      <td>0.928962</td>\n",
              "      <td>0.470584</td>\n",
              "      <td>0.458378</td>\n",
              "      <td>0.071038</td>\n",
              "    </tr>\n",
              "    <tr>\n",
              "      <th>6</th>\n",
              "      <td>Bustamante</td>\n",
              "      <td>3,661</td>\n",
              "      <td>0.956569</td>\n",
              "      <td>0.926796</td>\n",
              "      <td>0.029773</td>\n",
              "      <td>0.043431</td>\n",
              "    </tr>\n",
              "    <tr>\n",
              "      <th>7</th>\n",
              "      <td>Cadereyta Jiménez</td>\n",
              "      <td>122,337</td>\n",
              "      <td>0.972854</td>\n",
              "      <td>0.954168</td>\n",
              "      <td>0.018686</td>\n",
              "      <td>0.027146</td>\n",
              "    </tr>\n",
              "    <tr>\n",
              "      <th>8</th>\n",
              "      <td>Cerralvo</td>\n",
              "      <td>7,340</td>\n",
              "      <td>0.985559</td>\n",
              "      <td>0.968665</td>\n",
              "      <td>0.016894</td>\n",
              "      <td>0.014441</td>\n",
              "    </tr>\n",
              "    <tr>\n",
              "      <th>9</th>\n",
              "      <td>China</td>\n",
              "      <td>9,930</td>\n",
              "      <td>0.930312</td>\n",
              "      <td>0.880363</td>\n",
              "      <td>0.049950</td>\n",
              "      <td>0.069688</td>\n",
              "    </tr>\n",
              "    <tr>\n",
              "      <th>10</th>\n",
              "      <td>Ciénega de Flores</td>\n",
              "      <td>68,747</td>\n",
              "      <td>0.997658</td>\n",
              "      <td>0.992640</td>\n",
              "      <td>0.005018</td>\n",
              "      <td>0.002342</td>\n",
              "    </tr>\n",
              "    <tr>\n",
              "      <th>11</th>\n",
              "      <td>Doctor Arroyo</td>\n",
              "      <td>36,088</td>\n",
              "      <td>0.704168</td>\n",
              "      <td>0.394646</td>\n",
              "      <td>0.309521</td>\n",
              "      <td>0.295832</td>\n",
              "    </tr>\n",
              "    <tr>\n",
              "      <th>12</th>\n",
              "      <td>Doctor Coss</td>\n",
              "      <td>1,360</td>\n",
              "      <td>0.960294</td>\n",
              "      <td>0.941912</td>\n",
              "      <td>0.018382</td>\n",
              "      <td>0.039706</td>\n",
              "    </tr>\n",
              "    <tr>\n",
              "      <th>13</th>\n",
              "      <td>Doctor González</td>\n",
              "      <td>3,256</td>\n",
              "      <td>0.970823</td>\n",
              "      <td>0.909705</td>\n",
              "      <td>0.061118</td>\n",
              "      <td>0.029177</td>\n",
              "    </tr>\n",
              "    <tr>\n",
              "      <th>14</th>\n",
              "      <td>El Carmen</td>\n",
              "      <td>104,478</td>\n",
              "      <td>0.992707</td>\n",
              "      <td>0.987595</td>\n",
              "      <td>0.005111</td>\n",
              "      <td>0.007293</td>\n",
              "    </tr>\n",
              "    <tr>\n",
              "      <th>15</th>\n",
              "      <td>Galeana</td>\n",
              "      <td>40,903</td>\n",
              "      <td>0.863775</td>\n",
              "      <td>0.384715</td>\n",
              "      <td>0.479060</td>\n",
              "      <td>0.136225</td>\n",
              "    </tr>\n",
              "    <tr>\n",
              "      <th>16</th>\n",
              "      <td>García</td>\n",
              "      <td>397,205</td>\n",
              "      <td>0.995655</td>\n",
              "      <td>0.983386</td>\n",
              "      <td>0.012268</td>\n",
              "      <td>0.004345</td>\n",
              "    </tr>\n",
              "    <tr>\n",
              "      <th>17</th>\n",
              "      <td>General Bravo</td>\n",
              "      <td>5,506</td>\n",
              "      <td>0.957864</td>\n",
              "      <td>0.923175</td>\n",
              "      <td>0.034689</td>\n",
              "      <td>0.042136</td>\n",
              "    </tr>\n",
              "    <tr>\n",
              "      <th>18</th>\n",
              "      <td>General Escobedo</td>\n",
              "      <td>481,213</td>\n",
              "      <td>0.991507</td>\n",
              "      <td>0.979708</td>\n",
              "      <td>0.011799</td>\n",
              "      <td>0.008493</td>\n",
              "    </tr>\n",
              "    <tr>\n",
              "      <th>19</th>\n",
              "      <td>General Terán</td>\n",
              "      <td>14,109</td>\n",
              "      <td>0.968672</td>\n",
              "      <td>0.854136</td>\n",
              "      <td>0.114537</td>\n",
              "      <td>0.031328</td>\n",
              "    </tr>\n",
              "    <tr>\n",
              "      <th>20</th>\n",
              "      <td>General Treviño</td>\n",
              "      <td>1,808</td>\n",
              "      <td>0.982854</td>\n",
              "      <td>0.952434</td>\n",
              "      <td>0.030420</td>\n",
              "      <td>0.017146</td>\n",
              "    </tr>\n",
              "    <tr>\n",
              "      <th>21</th>\n",
              "      <td>General Zaragoza</td>\n",
              "      <td>6,282</td>\n",
              "      <td>0.790672</td>\n",
              "      <td>0.365489</td>\n",
              "      <td>0.425183</td>\n",
              "      <td>0.209328</td>\n",
              "    </tr>\n",
              "    <tr>\n",
              "      <th>22</th>\n",
              "      <td>General Zuazua</td>\n",
              "      <td>102,149</td>\n",
              "      <td>0.996446</td>\n",
              "      <td>0.989417</td>\n",
              "      <td>0.007029</td>\n",
              "      <td>0.003554</td>\n",
              "    </tr>\n",
              "    <tr>\n",
              "      <th>23</th>\n",
              "      <td>Guadalupe</td>\n",
              "      <td>643,143</td>\n",
              "      <td>0.994718</td>\n",
              "      <td>0.989335</td>\n",
              "      <td>0.005383</td>\n",
              "      <td>0.005282</td>\n",
              "    </tr>\n",
              "    <tr>\n",
              "      <th>24</th>\n",
              "      <td>Hidalgo</td>\n",
              "      <td>16,086</td>\n",
              "      <td>0.989370</td>\n",
              "      <td>0.965311</td>\n",
              "      <td>0.024058</td>\n",
              "      <td>0.010630</td>\n",
              "    </tr>\n",
              "    <tr>\n",
              "      <th>25</th>\n",
              "      <td>Higueras</td>\n",
              "      <td>1,386</td>\n",
              "      <td>0.989177</td>\n",
              "      <td>0.918470</td>\n",
              "      <td>0.070707</td>\n",
              "      <td>0.010823</td>\n",
              "    </tr>\n",
              "    <tr>\n",
              "      <th>26</th>\n",
              "      <td>Hualahuises</td>\n",
              "      <td>7,026</td>\n",
              "      <td>0.990891</td>\n",
              "      <td>0.933817</td>\n",
              "      <td>0.057074</td>\n",
              "      <td>0.009109</td>\n",
              "    </tr>\n",
              "    <tr>\n",
              "      <th>27</th>\n",
              "      <td>Iturbide</td>\n",
              "      <td>3,298</td>\n",
              "      <td>0.963614</td>\n",
              "      <td>0.593996</td>\n",
              "      <td>0.369618</td>\n",
              "      <td>0.036386</td>\n",
              "    </tr>\n",
              "    <tr>\n",
              "      <th>28</th>\n",
              "      <td>Juárez</td>\n",
              "      <td>471,523</td>\n",
              "      <td>0.995339</td>\n",
              "      <td>0.988278</td>\n",
              "      <td>0.007060</td>\n",
              "      <td>0.004661</td>\n",
              "    </tr>\n",
              "    <tr>\n",
              "      <th>29</th>\n",
              "      <td>Lampazos de Naranjo</td>\n",
              "      <td>5,351</td>\n",
              "      <td>0.983928</td>\n",
              "      <td>0.934218</td>\n",
              "      <td>0.049710</td>\n",
              "      <td>0.016072</td>\n",
              "    </tr>\n",
              "    <tr>\n",
              "      <th>30</th>\n",
              "      <td>Linares</td>\n",
              "      <td>84,666</td>\n",
              "      <td>0.983122</td>\n",
              "      <td>0.909515</td>\n",
              "      <td>0.073607</td>\n",
              "      <td>0.016878</td>\n",
              "    </tr>\n",
              "    <tr>\n",
              "      <th>31</th>\n",
              "      <td>Los Aldamas</td>\n",
              "      <td>1,407</td>\n",
              "      <td>0.977967</td>\n",
              "      <td>0.959488</td>\n",
              "      <td>0.018479</td>\n",
              "      <td>0.022033</td>\n",
              "    </tr>\n",
              "    <tr>\n",
              "      <th>32</th>\n",
              "      <td>Los Herreras</td>\n",
              "      <td>1,959</td>\n",
              "      <td>0.977540</td>\n",
              "      <td>0.943338</td>\n",
              "      <td>0.034201</td>\n",
              "      <td>0.022460</td>\n",
              "    </tr>\n",
              "    <tr>\n",
              "      <th>33</th>\n",
              "      <td>Los Ramones</td>\n",
              "      <td>5,389</td>\n",
              "      <td>0.958063</td>\n",
              "      <td>0.878456</td>\n",
              "      <td>0.079607</td>\n",
              "      <td>0.041937</td>\n",
              "    </tr>\n",
              "    <tr>\n",
              "      <th>34</th>\n",
              "      <td>Marín</td>\n",
              "      <td>5,119</td>\n",
              "      <td>0.992772</td>\n",
              "      <td>0.952530</td>\n",
              "      <td>0.040242</td>\n",
              "      <td>0.007228</td>\n",
              "    </tr>\n",
              "    <tr>\n",
              "      <th>35</th>\n",
              "      <td>035 Melchor Ocampo</td>\n",
              "      <td>1,483</td>\n",
              "      <td>0.984491</td>\n",
              "      <td>0.971679</td>\n",
              "      <td>0.012812</td>\n",
              "      <td>0.015509</td>\n",
              "    </tr>\n",
              "    <tr>\n",
              "      <th>36</th>\n",
              "      <td>036 Mier y Noriega</td>\n",
              "      <td>7,652</td>\n",
              "      <td>0.787899</td>\n",
              "      <td>0.279665</td>\n",
              "      <td>0.508233</td>\n",
              "      <td>0.212101</td>\n",
              "    </tr>\n",
              "    <tr>\n",
              "      <th>37</th>\n",
              "      <td>Mina</td>\n",
              "      <td>6,048</td>\n",
              "      <td>0.940146</td>\n",
              "      <td>0.811673</td>\n",
              "      <td>0.128472</td>\n",
              "      <td>0.059854</td>\n",
              "    </tr>\n",
              "    <tr>\n",
              "      <th>38</th>\n",
              "      <td>Montemorelos</td>\n",
              "      <td>67,428</td>\n",
              "      <td>0.974224</td>\n",
              "      <td>0.920982</td>\n",
              "      <td>0.053242</td>\n",
              "      <td>0.025776</td>\n",
              "    </tr>\n",
              "    <tr>\n",
              "      <th>39</th>\n",
              "      <td>Monterrey</td>\n",
              "      <td>1,142,994</td>\n",
              "      <td>0.985813</td>\n",
              "      <td>0.976091</td>\n",
              "      <td>0.009722</td>\n",
              "      <td>0.014187</td>\n",
              "    </tr>\n",
              "    <tr>\n",
              "      <th>40</th>\n",
              "      <td>Parás</td>\n",
              "      <td>906</td>\n",
              "      <td>0.981236</td>\n",
              "      <td>0.927152</td>\n",
              "      <td>0.054084</td>\n",
              "      <td>0.018764</td>\n",
              "    </tr>\n",
              "    <tr>\n",
              "      <th>41</th>\n",
              "      <td>Pesquería</td>\n",
              "      <td>147,624</td>\n",
              "      <td>0.995096</td>\n",
              "      <td>0.984820</td>\n",
              "      <td>0.010276</td>\n",
              "      <td>0.004904</td>\n",
              "    </tr>\n",
              "    <tr>\n",
              "      <th>42</th>\n",
              "      <td>Rayones</td>\n",
              "      <td>2,377</td>\n",
              "      <td>0.965503</td>\n",
              "      <td>0.689104</td>\n",
              "      <td>0.276399</td>\n",
              "      <td>0.034497</td>\n",
              "    </tr>\n",
              "    <tr>\n",
              "      <th>43</th>\n",
              "      <td>Sabinas Hidalgo</td>\n",
              "      <td>34,709</td>\n",
              "      <td>0.986977</td>\n",
              "      <td>0.968596</td>\n",
              "      <td>0.018381</td>\n",
              "      <td>0.013023</td>\n",
              "    </tr>\n",
              "    <tr>\n",
              "      <th>44</th>\n",
              "      <td>Salinas Victoria</td>\n",
              "      <td>86,766</td>\n",
              "      <td>0.994064</td>\n",
              "      <td>0.968179</td>\n",
              "      <td>0.025886</td>\n",
              "      <td>0.005936</td>\n",
              "    </tr>\n",
              "    <tr>\n",
              "      <th>45</th>\n",
              "      <td>San Nicolás de los Garza</td>\n",
              "      <td>412,199</td>\n",
              "      <td>0.998377</td>\n",
              "      <td>0.995963</td>\n",
              "      <td>0.002414</td>\n",
              "      <td>0.001623</td>\n",
              "    </tr>\n",
              "    <tr>\n",
              "      <th>46</th>\n",
              "      <td>San Pedro Garza García</td>\n",
              "      <td>132,169</td>\n",
              "      <td>0.959476</td>\n",
              "      <td>0.954853</td>\n",
              "      <td>0.004623</td>\n",
              "      <td>0.040524</td>\n",
              "    </tr>\n",
              "    <tr>\n",
              "      <th>47</th>\n",
              "      <td>Santa Catarina</td>\n",
              "      <td>306,322</td>\n",
              "      <td>0.987765</td>\n",
              "      <td>0.980201</td>\n",
              "      <td>0.007564</td>\n",
              "      <td>0.012235</td>\n",
              "    </tr>\n",
              "    <tr>\n",
              "      <th>48</th>\n",
              "      <td>Santiago</td>\n",
              "      <td>46,784</td>\n",
              "      <td>0.964154</td>\n",
              "      <td>0.929484</td>\n",
              "      <td>0.034670</td>\n",
              "      <td>0.035846</td>\n",
              "    </tr>\n",
              "    <tr>\n",
              "      <th>49</th>\n",
              "      <td>Vallecillo</td>\n",
              "      <td>1,552</td>\n",
              "      <td>0.975515</td>\n",
              "      <td>0.847294</td>\n",
              "      <td>0.128222</td>\n",
              "      <td>0.024485</td>\n",
              "    </tr>\n",
              "    <tr>\n",
              "      <th>50</th>\n",
              "      <td>Villaldama</td>\n",
              "      <td>3,573</td>\n",
              "      <td>0.981808</td>\n",
              "      <td>0.937308</td>\n",
              "      <td>0.044500</td>\n",
              "      <td>0.018192</td>\n",
              "    </tr>\n",
              "    <tr>\n",
              "      <th>51</th>\n",
              "      <td>NaN</td>\n",
              "      <td>NaN</td>\n",
              "      <td>NaN</td>\n",
              "      <td>NaN</td>\n",
              "      <td>NaN</td>\n",
              "      <td>NaN</td>\n",
              "    </tr>\n",
              "  </tbody>\n",
              "</table>\n",
              "</div>\n",
              "      <button class=\"colab-df-convert\" onclick=\"convertToInteractive('df-723a4141-fd65-46f1-982b-5ebe21a775e1')\"\n",
              "              title=\"Convert this dataframe to an interactive table.\"\n",
              "              style=\"display:none;\">\n",
              "        \n",
              "  <svg xmlns=\"http://www.w3.org/2000/svg\" height=\"24px\"viewBox=\"0 0 24 24\"\n",
              "       width=\"24px\">\n",
              "    <path d=\"M0 0h24v24H0V0z\" fill=\"none\"/>\n",
              "    <path d=\"M18.56 5.44l.94 2.06.94-2.06 2.06-.94-2.06-.94-.94-2.06-.94 2.06-2.06.94zm-11 1L8.5 8.5l.94-2.06 2.06-.94-2.06-.94L8.5 2.5l-.94 2.06-2.06.94zm10 10l.94 2.06.94-2.06 2.06-.94-2.06-.94-.94-2.06-.94 2.06-2.06.94z\"/><path d=\"M17.41 7.96l-1.37-1.37c-.4-.4-.92-.59-1.43-.59-.52 0-1.04.2-1.43.59L10.3 9.45l-7.72 7.72c-.78.78-.78 2.05 0 2.83L4 21.41c.39.39.9.59 1.41.59.51 0 1.02-.2 1.41-.59l7.78-7.78 2.81-2.81c.8-.78.8-2.07 0-2.86zM5.41 20L4 18.59l7.72-7.72 1.47 1.35L5.41 20z\"/>\n",
              "  </svg>\n",
              "      </button>\n",
              "      \n",
              "  <style>\n",
              "    .colab-df-container {\n",
              "      display:flex;\n",
              "      flex-wrap:wrap;\n",
              "      gap: 12px;\n",
              "    }\n",
              "\n",
              "    .colab-df-convert {\n",
              "      background-color: #E8F0FE;\n",
              "      border: none;\n",
              "      border-radius: 50%;\n",
              "      cursor: pointer;\n",
              "      display: none;\n",
              "      fill: #1967D2;\n",
              "      height: 32px;\n",
              "      padding: 0 0 0 0;\n",
              "      width: 32px;\n",
              "    }\n",
              "\n",
              "    .colab-df-convert:hover {\n",
              "      background-color: #E2EBFA;\n",
              "      box-shadow: 0px 1px 2px rgba(60, 64, 67, 0.3), 0px 1px 3px 1px rgba(60, 64, 67, 0.15);\n",
              "      fill: #174EA6;\n",
              "    }\n",
              "\n",
              "    [theme=dark] .colab-df-convert {\n",
              "      background-color: #3B4455;\n",
              "      fill: #D2E3FC;\n",
              "    }\n",
              "\n",
              "    [theme=dark] .colab-df-convert:hover {\n",
              "      background-color: #434B5C;\n",
              "      box-shadow: 0px 1px 3px 1px rgba(0, 0, 0, 0.15);\n",
              "      filter: drop-shadow(0px 1px 2px rgba(0, 0, 0, 0.3));\n",
              "      fill: #FFFFFF;\n",
              "    }\n",
              "  </style>\n",
              "\n",
              "      <script>\n",
              "        const buttonEl =\n",
              "          document.querySelector('#df-723a4141-fd65-46f1-982b-5ebe21a775e1 button.colab-df-convert');\n",
              "        buttonEl.style.display =\n",
              "          google.colab.kernel.accessAllowed ? 'block' : 'none';\n",
              "\n",
              "        async function convertToInteractive(key) {\n",
              "          const element = document.querySelector('#df-723a4141-fd65-46f1-982b-5ebe21a775e1');\n",
              "          const dataTable =\n",
              "            await google.colab.kernel.invokeFunction('convertToInteractive',\n",
              "                                                     [key], {});\n",
              "          if (!dataTable) return;\n",
              "\n",
              "          const docLinkHtml = 'Like what you see? Visit the ' +\n",
              "            '<a target=\"_blank\" href=https://colab.research.google.com/notebooks/data_table.ipynb>data table notebook</a>'\n",
              "            + ' to learn more about interactive tables.';\n",
              "          element.innerHTML = '';\n",
              "          dataTable['output_type'] = 'display_data';\n",
              "          await google.colab.output.renderOutput(dataTable, element);\n",
              "          const docLink = document.createElement('div');\n",
              "          docLink.innerHTML = docLinkHtml;\n",
              "          element.appendChild(docLink);\n",
              "        }\n",
              "      </script>\n",
              "    </div>\n",
              "  </div>\n",
              "  "
            ]
          },
          "metadata": {},
          "execution_count": 124
        }
      ]
    },
    {
      "cell_type": "code",
      "source": [
        "df.max()"
      ],
      "metadata": {
        "colab": {
          "base_uri": "https://localhost:8080/"
        },
        "id": "IIRnE1X6G4uQ",
        "outputId": "8aa9a09b-390c-493f-e80f-0100c7917171"
      },
      "execution_count": null,
      "outputs": [
        {
          "output_type": "stream",
          "name": "stderr",
          "text": [
            "/usr/local/lib/python3.7/dist-packages/ipykernel_launcher.py:1: FutureWarning: Dropping of nuisance columns in DataFrame reductions (with 'numeric_only=None') is deprecated; in a future version this will raise TypeError.  Select only valid columns before calling the reduction.\n",
            "  \"\"\"Entry point for launching an IPython kernel.\n"
          ]
        },
        {
          "output_type": "execute_result",
          "data": {
            "text/plain": [
              "Porcentaje con Agua Entubada                         0.998377\n",
              "Porcentaje de agua entubada dentro de la vivienda    0.995963\n",
              "Porcentaje de agua entubada fuera de la vivienda     0.508233\n",
              "Porcentaje sin Agua Entubada (Acarreo)               0.295832\n",
              "dtype: float64"
            ]
          },
          "metadata": {},
          "execution_count": 125
        }
      ]
    },
    {
      "cell_type": "code",
      "source": [
        "df.min()"
      ],
      "metadata": {
        "colab": {
          "base_uri": "https://localhost:8080/"
        },
        "id": "XqSyhBajG-X_",
        "outputId": "42187eeb-a46c-4d33-cfd9-90b299cc1434"
      },
      "execution_count": null,
      "outputs": [
        {
          "output_type": "stream",
          "name": "stderr",
          "text": [
            "/usr/local/lib/python3.7/dist-packages/ipykernel_launcher.py:1: FutureWarning: Dropping of nuisance columns in DataFrame reductions (with 'numeric_only=None') is deprecated; in a future version this will raise TypeError.  Select only valid columns before calling the reduction.\n",
            "  \"\"\"Entry point for launching an IPython kernel.\n"
          ]
        },
        {
          "output_type": "execute_result",
          "data": {
            "text/plain": [
              "Porcentaje con Agua Entubada                         0.704168\n",
              "Porcentaje de agua entubada dentro de la vivienda    0.279665\n",
              "Porcentaje de agua entubada fuera de la vivienda     0.002123\n",
              "Porcentaje sin Agua Entubada (Acarreo)               0.001623\n",
              "dtype: float64"
            ]
          },
          "metadata": {},
          "execution_count": 126
        }
      ]
    },
    {
      "cell_type": "code",
      "source": [
        "df.mean()"
      ],
      "metadata": {
        "colab": {
          "base_uri": "https://localhost:8080/"
        },
        "id": "nje0g-ntHCw2",
        "outputId": "a1089eb6-3a87-40b9-f44b-2011f4f52598"
      },
      "execution_count": null,
      "outputs": [
        {
          "output_type": "stream",
          "name": "stderr",
          "text": [
            "/usr/local/lib/python3.7/dist-packages/ipykernel_launcher.py:1: FutureWarning: Dropping of nuisance columns in DataFrame reductions (with 'numeric_only=None') is deprecated; in a future version this will raise TypeError.  Select only valid columns before calling the reduction.\n",
            "  \"\"\"Entry point for launching an IPython kernel.\n"
          ]
        },
        {
          "output_type": "execute_result",
          "data": {
            "text/plain": [
              "Porcentaje con Agua Entubada                         0.963296\n",
              "Porcentaje de agua entubada dentro de la vivienda    0.877348\n",
              "Porcentaje de agua entubada fuera de la vivienda     0.085948\n",
              "Porcentaje sin Agua Entubada (Acarreo)               0.036704\n",
              "dtype: float64"
            ]
          },
          "metadata": {},
          "execution_count": 127
        }
      ]
    },
    {
      "cell_type": "code",
      "source": [
        "df.var()"
      ],
      "metadata": {
        "colab": {
          "base_uri": "https://localhost:8080/"
        },
        "id": "mOn8keYQKTGq",
        "outputId": "b168de80-ce7f-4e7d-f9f4-ab5d03826965"
      },
      "execution_count": null,
      "outputs": [
        {
          "output_type": "stream",
          "name": "stderr",
          "text": [
            "/usr/local/lib/python3.7/dist-packages/ipykernel_launcher.py:1: FutureWarning: Dropping of nuisance columns in DataFrame reductions (with 'numeric_only=None') is deprecated; in a future version this will raise TypeError.  Select only valid columns before calling the reduction.\n",
            "  \"\"\"Entry point for launching an IPython kernel.\n"
          ]
        },
        {
          "output_type": "execute_result",
          "data": {
            "text/plain": [
              "Porcentaje con Agua Entubada                         0.003230\n",
              "Porcentaje de agua entubada dentro de la vivienda    0.033013\n",
              "Porcentaje de agua entubada fuera de la vivienda     0.018199\n",
              "Porcentaje sin Agua Entubada (Acarreo)               0.003230\n",
              "dtype: float64"
            ]
          },
          "metadata": {},
          "execution_count": 128
        }
      ]
    },
    {
      "cell_type": "code",
      "source": [
        "df.kurt()"
      ],
      "metadata": {
        "colab": {
          "base_uri": "https://localhost:8080/"
        },
        "id": "bMKfJFNiKfOC",
        "outputId": "57fa5b82-f7fd-4279-849f-605686d5e085"
      },
      "execution_count": null,
      "outputs": [
        {
          "output_type": "stream",
          "name": "stderr",
          "text": [
            "/usr/local/lib/python3.7/dist-packages/ipykernel_launcher.py:1: FutureWarning: Dropping of nuisance columns in DataFrame reductions (with 'numeric_only=None') is deprecated; in a future version this will raise TypeError.  Select only valid columns before calling the reduction.\n",
            "  \"\"\"Entry point for launching an IPython kernel.\n"
          ]
        },
        {
          "output_type": "execute_result",
          "data": {
            "text/plain": [
              "Porcentaje con Agua Entubada                         10.776597\n",
              "Porcentaje de agua entubada dentro de la vivienda     3.991468\n",
              "Porcentaje de agua entubada fuera de la vivienda      3.567292\n",
              "Porcentaje sin Agua Entubada (Acarreo)               10.776597\n",
              "dtype: float64"
            ]
          },
          "metadata": {},
          "execution_count": 129
        }
      ]
    },
    {
      "cell_type": "code",
      "source": [
        "df.hist('Porcentaje con Agua Entubada')"
      ],
      "metadata": {
        "colab": {
          "base_uri": "https://localhost:8080/",
          "height": 315
        },
        "id": "usGF4EayKjCC",
        "outputId": "07a27516-e895-4fdd-b3d2-fbb9fcce74fc"
      },
      "execution_count": null,
      "outputs": [
        {
          "output_type": "execute_result",
          "data": {
            "text/plain": [
              "array([[<matplotlib.axes._subplots.AxesSubplot object at 0x7f19303ac390>]],\n",
              "      dtype=object)"
            ]
          },
          "metadata": {},
          "execution_count": 130
        },
        {
          "output_type": "display_data",
          "data": {
            "text/plain": [
              "<Figure size 432x288 with 1 Axes>"
            ],
            "image/png": "[encoded data removed]"
          },
          "metadata": {
            "needs_background": "light"
          }
        }
      ]
    },
    {
      "cell_type": "code",
      "source": [
        "df.hist(\"Porcentaje de agua entubada dentro de la vivienda\")"
      ],
      "metadata": {
        "colab": {
          "base_uri": "https://localhost:8080/",
          "height": 315
        },
        "id": "IhY0OHiYK7yO",
        "outputId": "79574459-bbd1-4758-a048-5dcc73fa70c1"
      },
      "execution_count": null,
      "outputs": [
        {
          "output_type": "execute_result",
          "data": {
            "text/plain": [
              "array([[<matplotlib.axes._subplots.AxesSubplot object at 0x7f19302a5f10>]],\n",
              "      dtype=object)"
            ]
          },
          "metadata": {},
          "execution_count": 131
        },
        {
          "output_type": "display_data",
          "data": {
            "text/plain": [
              "<Figure size 432x288 with 1 Axes>"
            ],
            "image/png": "[encoded data removed]"
          },
          "metadata": {
            "needs_background": "light"
          }
        }
      ]
    },
    {
      "cell_type": "code",
      "source": [
        "df.hist(\"Porcentaje de agua entubada fuera de la vivienda\")"
      ],
      "metadata": {
        "colab": {
          "base_uri": "https://localhost:8080/",
          "height": 315
        },
        "id": "OQ55JWXqLYEx",
        "outputId": "bcd0a2a3-0fed-4322-b301-a0ff00afa467"
      },
      "execution_count": null,
      "outputs": [
        {
          "output_type": "execute_result",
          "data": {
            "text/plain": [
              "array([[<matplotlib.axes._subplots.AxesSubplot object at 0x7f1930ddadd0>]],\n",
              "      dtype=object)"
            ]
          },
          "metadata": {},
          "execution_count": 132
        },
        {
          "output_type": "display_data",
          "data": {
            "text/plain": [
              "<Figure size 432x288 with 1 Axes>"
            ],
            "image/png": "[encoded data removed]"
          },
          "metadata": {
            "needs_background": "light"
          }
        }
      ]
    },
    {
      "cell_type": "code",
      "source": [
        "df.hist(\"Porcentaje sin Agua Entubada (Acarreo)\")"
      ],
      "metadata": {
        "colab": {
          "base_uri": "https://localhost:8080/",
          "height": 315
        },
        "id": "I79fcMoSLloi",
        "outputId": "3b31b2f3-ccb6-4147-856b-7f8e15e02c53"
      },
      "execution_count": null,
      "outputs": [
        {
          "output_type": "execute_result",
          "data": {
            "text/plain": [
              "array([[<matplotlib.axes._subplots.AxesSubplot object at 0x7f1930e36e10>]],\n",
              "      dtype=object)"
            ]
          },
          "metadata": {},
          "execution_count": 133
        },
        {
          "output_type": "display_data",
          "data": {
            "text/plain": [
              "<Figure size 432x288 with 1 Axes>"
            ],
            "image/png": "[encoded data removed]"
          },
          "metadata": {
            "needs_background": "light"
          }
        }
      ]
    },
    {
      "cell_type": "code",
      "source": [
        "C= df\n",
        "C=C.corr()\n",
        "import seaborn as sns\n",
        "import matplotlib.pyplot as plt\n",
        "\n",
        "fig, ax = plt.subplots(figsize=(15,15))         # Sample figsize in inches\n",
        "sns.heatmap(C, annot = True)"
      ],
      "metadata": {
        "colab": {
          "base_uri": "https://localhost:8080/",
          "height": 1000
        },
        "id": "ZEnhN5VoMBX9",
        "outputId": "1bea20bf-b466-4354-c542-63f1689b1875"
      },
      "execution_count": null,
      "outputs": [
        {
          "output_type": "execute_result",
          "data": {
            "text/plain": [
              "<matplotlib.axes._subplots.AxesSubplot at 0x7f19301fc2d0>"
            ]
          },
          "metadata": {},
          "execution_count": 134
        },
        {
          "output_type": "display_data",
          "data": {
            "text/plain": [
              "<Figure size 1080x1080 with 2 Axes>"
            ],
            "image/png": "[encoded data removed]"
          },
          "metadata": {
            "needs_background": "light"
          }
        }
      ]
    },
    {
      "cell_type": "code",
      "source": [
        "D= df\n",
        "D=D.corr()\n",
        "import seaborn as sns\n",
        "import matplotlib.pyplot as plt\n",
        "\n",
        "fig, ax = plt.subplots(figsize=(15,15))         # Sample figsize in inches\n",
        "sns.heatmap(D, annot = True)"
      ],
      "metadata": {
        "colab": {
          "base_uri": "https://localhost:8080/",
          "height": 1000
        },
        "id": "APZk8jDCXYS3",
        "outputId": "dd9b388d-7958-49a2-c410-27b124133818"
      },
      "execution_count": null,
      "outputs": [
        {
          "output_type": "execute_result",
          "data": {
            "text/plain": [
              "<matplotlib.axes._subplots.AxesSubplot at 0x7f193015fe90>"
            ]
          },
          "metadata": {},
          "execution_count": 135
        },
        {
          "output_type": "display_data",
          "data": {
            "text/plain": [
              "<Figure size 1080x1080 with 2 Axes>"
            ],
            "image/png": "[encoded data removed]"
          },
          "metadata": {
            "needs_background": "light"
          }
        }
      ]
    }
  ]
}